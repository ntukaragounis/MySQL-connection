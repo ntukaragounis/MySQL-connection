{
 "cells": [
  {
   "cell_type": "markdown",
   "id": "a6159df1",
   "metadata": {},
   "source": [
    "# MySQL connection"
   ]
  },
  {
   "cell_type": "code",
   "execution_count": null,
   "id": "cb9c037d",
   "metadata": {},
   "outputs": [],
   "source": [
    "import mysql.connector\n",
    "from mysql.connector import Error\n",
    "from sqlalchemy import create_engine\n",
    "import pymysql"
   ]
  },
  {
   "cell_type": "markdown",
   "id": "51f32440",
   "metadata": {},
   "source": [
    "## 1. Functions for MySQL connections and queries\n",
    "### 1.1. Connection to MySQL Server"
   ]
  },
  {
   "cell_type": "code",
   "execution_count": null,
   "id": "4ced6c24",
   "metadata": {},
   "outputs": [],
   "source": [
    "# Function to connect to MySQL server\n",
    "def server_connect(host_name, user_name, user_password): # Define function and arguments \n",
    "    connection = None # Initialise connection variable and close any existing connections    \n",
    "    try: # Exception handling in case connection fails \n",
    "        connection = mysql.connector.connect( \n",
    "            host = host_name,\n",
    "            user = user_name, \n",
    "            password = user_password \n",
    "        )\n",
    "        print(f\"Connection to MySQL server {host_name} successful\") # If connection is successful message will appear\n",
    "        return connection\n",
    "    except Error as err:\n",
    "        print(f\"Error: '{err}'\")"
   ]
  },
  {
   "cell_type": "markdown",
   "id": "976ced36",
   "metadata": {},
   "source": [
    "### 1.2. Create new database"
   ]
  },
  {
   "cell_type": "code",
   "execution_count": null,
   "id": "942e52c1",
   "metadata": {},
   "outputs": [],
   "source": [
    "# Function to create a new database using the above connection and a query as parameters\n",
    "def create_database(connection, query):\n",
    "    cursor = connection.cursor() # Create a cursor object\n",
    "    try:\n",
    "        cursor.execute(query) # Use cursor to execute the query \n",
    "        connection.commit() # Commit changes\n",
    "        print(\"Database created successfully\") # Print message if successful\n",
    "    except Error as err:\n",
    "        print(f\"Error: '{err}'\") # Print error message if unsuccessful"
   ]
  },
  {
   "cell_type": "code",
   "execution_count": null,
   "id": "3ed8dbcf",
   "metadata": {},
   "outputs": [],
   "source": [
    "# Define credentials to use as parameters in function\n",
    "user = \"root\"\n",
    "host = \"localhost\"\n",
    "pw = input(\"Enter MySQL terminal password:\")\n",
    "db = input(\"Enter database name:\")\n",
    "\n",
    "connection = server_connect(\"localhost\", \"root\", pw) # Call the function with the above credentials as parameters and assign to connection\n",
    "create_database_query = f\"CREATE DATABASE IF NOT EXISTS {db}\" # Define query\n",
    "create_database(connection, create_database_query) # Call function using connection and create_database_query"
   ]
  },
  {
   "cell_type": "markdown",
   "id": "25f4004f",
   "metadata": {},
   "source": [
    "### 1.3. Connnect to database"
   ]
  },
  {
   "cell_type": "code",
   "execution_count": null,
   "id": "584f911b",
   "metadata": {},
   "outputs": [],
   "source": [
    "# Function to connect to a MySQL database using credentials as parameters \n",
    "def db_connect(host_name, user_name, user_password, db_name):\n",
    "    connection = None  \n",
    "    try:\n",
    "        connection = mysql.connector.connect( # Use credentials and database name defined in previous sections as parameters\n",
    "            host = host_name,\n",
    "            user = user_name,\n",
    "            password = user_password,\n",
    "            database = db_name\n",
    "        )\n",
    "        print(f\"Connection to MySQL database {db_name} successful\")\n",
    "    except Error as err:\n",
    "        print(f\"Error: '{err}'\")\n",
    "        \n",
    "    return connection # Return connection object defined in previous section"
   ]
  },
  {
   "cell_type": "markdown",
   "id": "78248152",
   "metadata": {},
   "source": [
    "### 1.4. Execute query"
   ]
  },
  {
   "cell_type": "code",
   "execution_count": null,
   "id": "0da68e9c",
   "metadata": {},
   "outputs": [],
   "source": [
    "def execute_query(connection, query, values=None):\n",
    "    cursor = connection.cursor() # Create cursor object from the connection\n",
    "    try:\n",
    "        if isinstance(values, list): \n",
    "            cursor.executemany(query, values) # If value is list use executemany  \n",
    "        else:\n",
    "            cursor.execute(query, values) # Else use execute for single set of values\n",
    "            connection.commit() # Commit changes to database \n",
    "        print(\"Query successful\")\n",
    "    except Error as err:\n",
    "        print(f\"Error: '{err}'\")\n",
    "    finally:\n",
    "        cursor.close() # CLose the cursor"
   ]
  },
  {
   "cell_type": "markdown",
   "id": "f8923603",
   "metadata": {},
   "source": [
    "### 1.5. Load data into database"
   ]
  },
  {
   "cell_type": "code",
   "execution_count": null,
   "id": "6a7264a1",
   "metadata": {},
   "outputs": [],
   "source": [
    "# pymysql is used to improve performance with the data upload and prevent losing connection to the server \n",
    "# Chunks used to save on memory\n",
    "def load_data(dataframe, database, table, chunk_size=500000): \n",
    "    engine = create_engine(f'mysql+pymysql://{user}:{pw}@{host}/{db}') # Create a database engine with the credentials \n",
    "    \n",
    "    # Splitting the dataframe into chunks and uploading each chunk\n",
    "    for start_row in range(0, dataframe.shape[0], chunk_size):\n",
    "        end_row = start_row + chunk_size\n",
    "        df_chunk = dataframe.iloc[start_row:end_row]\n",
    "        \n",
    "        df_chunk.to_sql(name=table, con=engine, if_exists='append', index=False)  # Load the chunk into the table\n",
    "        print(f\"Chunk {start_row} to {end_row} successfully imported into {table}\")"
   ]
  },
  {
   "cell_type": "markdown",
   "id": "22021f44",
   "metadata": {},
   "source": [
    "### 1.6. Read queries"
   ]
  },
  {
   "cell_type": "code",
   "execution_count": null,
   "id": "4e42403f",
   "metadata": {},
   "outputs": [],
   "source": [
    "# Additional function required to read queries as opposed to the execute_function\n",
    "def read_query(connection, query):\n",
    "    cursor = connection.cursor() # Create cursor object\n",
    "    result = None # Initialise and clear result variable \n",
    "    try:\n",
    "        cursor.execute(query) # execute query\n",
    "        result = cursor.fetchall() # Fetch all rows that are returned from the query\n",
    "        return result\n",
    "    except Error as err:\n",
    "        print(f\"Error: '{err}'\")"
   ]
  }
 ],
 "metadata": {
  "kernelspec": {
   "display_name": "Python 3 (ipykernel)",
   "language": "python",
   "name": "python3"
  },
  "language_info": {
   "codemirror_mode": {
    "name": "ipython",
    "version": 3
   },
   "file_extension": ".py",
   "mimetype": "text/x-python",
   "name": "python",
   "nbconvert_exporter": "python",
   "pygments_lexer": "ipython3",
   "version": "3.11.5"
  }
 },
 "nbformat": 4,
 "nbformat_minor": 5
}
